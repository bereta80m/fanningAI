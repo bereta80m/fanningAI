{
  "nbformat": 4,
  "nbformat_minor": 0,
  "metadata": {
    "colab": {
      "provenance": [],
      "authorship_tag": "ABX9TyOO3J6r88Y+gBcBtrWGbRC5",
      "include_colab_link": true
    },
    "kernelspec": {
      "name": "python3",
      "display_name": "Python 3"
    },
    "language_info": {
      "name": "python"
    }
  },
  "cells": [
    {
      "cell_type": "markdown",
      "metadata": {
        "id": "view-in-github",
        "colab_type": "text"
      },
      "source": [
        "<a href=\"https://colab.research.google.com/github/bereta80m/fanningAI/blob/main/faceswapping.ipynb\" target=\"_parent\"><img src=\"https://colab.research.google.com/assets/colab-badge.svg\" alt=\"Open In Colab\"/></a>"
      ]
    },
    {
      "cell_type": "code",
      "source": [
        "!pip install -U insightface\n",
        "!pip install onnxruntime"
      ],
      "metadata": {
        "id": "EDSE6V9HGQlE"
      },
      "execution_count": null,
      "outputs": []
    },
    {
      "cell_type": "code",
      "source": [
        "import numpy as np\n",
        "import os\n",
        "import glob\n",
        "import cv2\n",
        "import matplotlib.pyplot as plt\n",
        "import insightface\n",
        "from insightface.app import FaceAnalysis\n",
        "from insightface.data import get_image as ins_get_image\n",
        "\n",
        "app = FaceAnalysis(name='buffalo_l')\n",
        "app.prepare(ctx_id=0, det_size=(640,640))\n",
        "swapper = insightface.model_zoo.get_model('inswapper_128.onnx', download=False,download_zip=False)\n",
        "\n"
      ],
      "metadata": {
        "id": "vZeIw-NcbmrJ"
      },
      "execution_count": null,
      "outputs": []
    },
    {
      "cell_type": "code",
      "source": [
        "def swap_n_show(img1_fn, img2_fn,app,swapper,plot_before=True, plot_after=True):\n",
        "\n",
        "  img1 = cv2.imread(img1_fn)\n",
        "  img2 = cv2.imread(img2_fn)\n",
        "\n",
        "  if plot_before:\n",
        "    fig,axs = plt.subplots(1,2, figsize=(10,5))\n",
        "    axs[0].imshow(img1[:,:,::-1])\n",
        "    axs[0].axis('off')\n",
        "    axs[1].imshow(img2[:,:,::-1])\n",
        "    axs[1].axis('off')\n",
        "    plt.show()\n",
        "\n",
        "  face1 = app.get(img1)[0]\n",
        "  face2 = app.get(img2)[0]\n",
        "\n",
        "  img1_ = img1.copy()\n",
        "  img2_ = img2.copy()\n",
        "\n",
        "  if plot_after:\n",
        "    img1 = swapper.get(img1_,face1,face2, paste_back=True)\n",
        "    img2 = swapper.get(img2_,face2,face1, paste_back=True)\n",
        "    fig, axs = plt.subplots(1,2, figsize=(10,5))\n",
        "    axs[0].imshow(img1[:,:,::-1])  # Usa img1 en lugar de img1_\n",
        "    axs[0].axis('off')\n",
        "    axs[1].imshow(img2[:,:,::-1])  # Usa img2 en lugar de img2_\n",
        "    axs[1].axis('off')\n",
        "    plt.show()\n",
        "\n",
        "\n",
        "  return img1_, img2_"
      ],
      "metadata": {
        "id": "Avikji6rBZd3"
      },
      "execution_count": 14,
      "outputs": []
    },
    {
      "cell_type": "code",
      "source": [
        "_ = swap_n_show('thanos-bebe-marvel.webp','Yo.jpg',app,swapper)"
      ],
      "metadata": {
        "id": "_R3Wrg5XA8Ho"
      },
      "execution_count": null,
      "outputs": []
    }
  ]
}